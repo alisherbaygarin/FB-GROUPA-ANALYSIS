{
 "cells": [
  {
   "cell_type": "code",
   "execution_count": 23,
   "metadata": {},
   "outputs": [],
   "source": [
    "token = 'FB TOKEN'\n"
   ]
  },
  {
   "cell_type": "code",
   "execution_count": 24,
   "metadata": {
    "code_folding": []
   },
   "outputs": [],
   "source": [
    "import time\n",
    "import pickle\n",
    "import random\n",
    "import facebook\n",
    "import requests\n",
    "\n",
    "graph = facebook.GraphAPI(access_token= token)\n",
    "def some_action(post):\n",
    "    \"\"\" \n",
    "    null`\n",
    "    \"\"\"\n",
    "    return post\n",
    "\n",
    "\n",
    "\n",
    "user = '1608995489343236'\n",
    "\n",
    "graph = facebook.GraphAPI(token)\n",
    "profile = graph.get_object(user)\n",
    "posts = graph.get_connections(profile['id'], 'posts')\n",
    "\n",
    "data=[]\n",
    "\\\n",
    "while True:\n",
    "    try:\n",
    "       \n",
    "        time.sleep(random.randint(3,6))\n",
    "        data.extend(posts['data'])\n",
    " \n",
    "        [some_action(post=post) for post in posts['data']]\n",
    "     \n",
    "        posts = requests.get(posts['paging']['next']).json()\n",
    "    except KeyError:\n",
    "      \n",
    "        break\n"
   ]
  },
  {
   "cell_type": "code",
   "execution_count": 25,
   "metadata": {},
   "outputs": [],
   "source": [
    "# data\n",
    "pickle.dump(data,open(\"ts.pkl\",\"wb\"))"
   ]
  },
  {
   "cell_type": "code",
   "execution_count": 26,
   "metadata": {},
   "outputs": [
    {
     "data": {
      "text/plain": [
       "{'created_time': '2017-12-06T15:06:46+0000',\n",
       " 'story': 'ALIII',\n",
       " 'id': '1608995489343236_1986773708232077'}"
      ]
     },
     "execution_count": 26,
     "metadata": {},
     "output_type": "execute_result"
    }
   ],
   "source": [
    "loaded_data= pickle.load(file=open('ts.pkl', 'rb'))\n",
    "loaded_data[0]"
   ]
  },
  {
   "cell_type": "code",
   "execution_count": 27,
   "metadata": {},
   "outputs": [],
   "source": [
    "import pandas as pd \n",
    "import string\n",
    "from operator import itemgetter"
   ]
  },
  {
   "cell_type": "code",
   "execution_count": 28,
   "metadata": {},
   "outputs": [],
   "source": [
    "df2 = pd.io.json.json_normalize(data=loaded_data)"
   ]
  },
  {
   "cell_type": "code",
   "execution_count": 29,
   "metadata": {},
   "outputs": [
    {
     "data": {
      "text/html": [
       "<div>\n",
       "<style scoped>\n",
       "    .dataframe tbody tr th:only-of-type {\n",
       "        vertical-align: middle;\n",
       "    }\n",
       "\n",
       "    .dataframe tbody tr th {\n",
       "        vertical-align: top;\n",
       "    }\n",
       "\n",
       "    .dataframe thead th {\n",
       "        text-align: right;\n",
       "    }\n",
       "</style>\n",
       "<table border=\"1\" class=\"dataframe\">\n",
       "  <thead>\n",
       "    <tr style=\"text-align: right;\">\n",
       "      <th></th>\n",
       "      <th>created_time</th>\n",
       "      <th>id</th>\n",
       "      <th>message</th>\n",
       "      <th>story</th>\n",
       "    </tr>\n",
       "  </thead>\n",
       "  <tbody>\n",
       "    <tr>\n",
       "      <th>32</th>\n",
       "      <td>2015-07-18T11:38:59+0000</td>\n",
       "      <td>1608995489343236_1628820397360745</td>\n",
       "      <td>NaN</td>\n",
       "      <td>ALIII обновил(-а) фото обложки.</td>\n",
       "    </tr>\n",
       "    <tr>\n",
       "      <th>33</th>\n",
       "      <td>2015-06-19T17:20:34+0000</td>\n",
       "      <td>1608995489343236_1619047165004735</td>\n",
       "      <td>First 100 Followers and more than 2k plays in ...</td>\n",
       "      <td>NaN</td>\n",
       "    </tr>\n",
       "    <tr>\n",
       "      <th>34</th>\n",
       "      <td>2015-06-18T07:36:09+0000</td>\n",
       "      <td>1608995489343236_1618549258387859</td>\n",
       "      <td>Check my new tune!U can download it for free h...</td>\n",
       "      <td>NaN</td>\n",
       "    </tr>\n",
       "    <tr>\n",
       "      <th>35</th>\n",
       "      <td>2015-05-27T12:55:05+0000</td>\n",
       "      <td>1608995489343236_1608996239343161</td>\n",
       "      <td>NaN</td>\n",
       "      <td>ALIII обновил(-а) фото обложки.</td>\n",
       "    </tr>\n",
       "    <tr>\n",
       "      <th>36</th>\n",
       "      <td>2015-05-27T12:52:14+0000</td>\n",
       "      <td>1608995489343236_1608995792676539</td>\n",
       "      <td>NaN</td>\n",
       "      <td>ALIII обновил(-а) фото профиля.</td>\n",
       "    </tr>\n",
       "  </tbody>\n",
       "</table>\n",
       "</div>"
      ],
      "text/plain": [
       "                created_time                                 id  \\\n",
       "32  2015-07-18T11:38:59+0000  1608995489343236_1628820397360745   \n",
       "33  2015-06-19T17:20:34+0000  1608995489343236_1619047165004735   \n",
       "34  2015-06-18T07:36:09+0000  1608995489343236_1618549258387859   \n",
       "35  2015-05-27T12:55:05+0000  1608995489343236_1608996239343161   \n",
       "36  2015-05-27T12:52:14+0000  1608995489343236_1608995792676539   \n",
       "\n",
       "                                              message  \\\n",
       "32                                                NaN   \n",
       "33  First 100 Followers and more than 2k plays in ...   \n",
       "34  Check my new tune!U can download it for free h...   \n",
       "35                                                NaN   \n",
       "36                                                NaN   \n",
       "\n",
       "                              story  \n",
       "32  ALIII обновил(-а) фото обложки.  \n",
       "33                              NaN  \n",
       "34                              NaN  \n",
       "35  ALIII обновил(-а) фото обложки.  \n",
       "36  ALIII обновил(-а) фото профиля.  "
      ]
     },
     "execution_count": 29,
     "metadata": {},
     "output_type": "execute_result"
    }
   ],
   "source": [
    "df2.tail()"
   ]
  },
  {
   "cell_type": "code",
   "execution_count": 30,
   "metadata": {},
   "outputs": [
    {
     "data": {
      "text/plain": [
       "Index(['created_time', 'id', 'message', 'story'], dtype='object')"
      ]
     },
     "execution_count": 30,
     "metadata": {},
     "output_type": "execute_result"
    }
   ],
   "source": [
    "df2.columns"
   ]
  },
  {
   "cell_type": "code",
   "execution_count": 31,
   "metadata": {},
   "outputs": [],
   "source": [
    "df2.rename(columns = {'created_time': 'createdtime'},inplace=True)"
   ]
  },
  {
   "cell_type": "code",
   "execution_count": 32,
   "metadata": {},
   "outputs": [],
   "source": [
    "df2.fillna('', inplace=True)"
   ]
  },
  {
   "cell_type": "code",
   "execution_count": 33,
   "metadata": {},
   "outputs": [],
   "source": [
    "latest_news = df2.sort_values('createdtime', ascending=False)"
   ]
  },
  {
   "cell_type": "code",
   "execution_count": 34,
   "metadata": {},
   "outputs": [],
   "source": [
    "latest_news_id = latest_news[\"id\"]\n",
    "#latest_news_id"
   ]
  },
  {
   "cell_type": "code",
   "execution_count": 35,
   "metadata": {},
   "outputs": [
    {
     "name": "stdout",
     "output_type": "stream",
     "text": [
      "https://www.facebook.com/1608995489343236_1986773708232077\n",
      "https://www.facebook.com/1608995489343236_1969346086641506\n",
      "https://www.facebook.com/1608995489343236_1949165658659549\n",
      "https://www.facebook.com/1608995489343236_1922718701304245\n",
      "https://www.facebook.com/1608995489343236_1921876238055158\n",
      "https://www.facebook.com/1608995489343236_1916377831938332\n",
      "https://www.facebook.com/1608995489343236_1914567182119397\n",
      "https://www.facebook.com/1608995489343236_1893461637563285\n",
      "https://www.facebook.com/1608995489343236_1856673694575413\n",
      "https://www.facebook.com/1608995489343236_1837448996497883\n",
      "https://www.facebook.com/1608995489343236_1814968855412564\n",
      "https://www.facebook.com/1608995489343236_1813674188875364\n",
      "https://www.facebook.com/1608995489343236_1811655422410574\n",
      "https://www.facebook.com/1608995489343236_1783705365205580\n",
      "https://www.facebook.com/1608995489343236_1783705138538936\n",
      "https://www.facebook.com/1608995489343236_1777815305794586\n",
      "https://www.facebook.com/1608995489343236_1777549452487838\n",
      "https://www.facebook.com/1608995489343236_1770012376574879\n",
      "https://www.facebook.com/1608995489343236_1765371250372325\n",
      "https://www.facebook.com/1608995489343236_1756878321221618\n",
      "https://www.facebook.com/1608995489343236_1753792098196907\n",
      "https://www.facebook.com/1608995489343236_1744281855814598\n",
      "https://www.facebook.com/1608995489343236_1740025982906852\n",
      "https://www.facebook.com/1608995489343236_1737188876523896\n",
      "https://www.facebook.com/1608995489343236_1733900833519367\n",
      "https://www.facebook.com/1608995489343236_1666567456919372\n",
      "https://www.facebook.com/1608995489343236_1640152602894191\n",
      "https://www.facebook.com/1608995489343236_1640151962894255\n",
      "https://www.facebook.com/1608995489343236_1639145812994870\n",
      "https://www.facebook.com/1608995489343236_1638930566349728\n",
      "https://www.facebook.com/1608995489343236_1636985383210913\n",
      "https://www.facebook.com/1608995489343236_1628821894027262\n",
      "https://www.facebook.com/1608995489343236_1628820397360745\n",
      "https://www.facebook.com/1608995489343236_1619047165004735\n",
      "https://www.facebook.com/1608995489343236_1618549258387859\n",
      "https://www.facebook.com/1608995489343236_1608996239343161\n",
      "https://www.facebook.com/1608995489343236_1608995792676539\n"
     ]
    }
   ],
   "source": [
    "for i,x in latest_news_id.iteritems():\n",
    "    print('https://www.facebook.com/' + x)"
   ]
  },
  {
   "cell_type": "code",
   "execution_count": 36,
   "metadata": {},
   "outputs": [
    {
     "data": {
      "text/plain": [
       "'!\"#$%&\\'()*+,-./:;<=>?@[\\\\]^_`{|}~'"
      ]
     },
     "execution_count": 36,
     "metadata": {},
     "output_type": "execute_result"
    }
   ],
   "source": [
    "string.punctuation"
   ]
  },
  {
   "cell_type": "code",
   "execution_count": 37,
   "metadata": {},
   "outputs": [],
   "source": [
    "def count_words(df):\n",
    "    mapping = dict.fromkeys(map(ord, string.punctuation))\n",
    "    stop_words=[\"a\",\"about\",\"above\",\"after\",\"again\",\"against\",\"all\",\"am\",\"an\",\"and\",\"any\",\n",
    "                \"are\",\"now\",\"aren't\",\"as\",\"at\",\"be\",\"because\",\"been\",\"before\",\"being\",\"below\",\n",
    "                \"between\",\"both\",\"but\",\"by\",\"can't\",\"cannot\",\"could\",\"couldn't\",\"did\",\"didn't\",\n",
    "                \"do\",\"does\",\"doesn't\",\"doing\",\"don't\",\"down\",\"due\",\"during\",\"each\",\"few\",\"for\",\"from\",\n",
    "                \"further\",\"had\",\"hadn't\",\"has\",\"hasn't\",\"have\",\"haven't\",\"having\",\"he\",\"he'd\",\n",
    "                \"he'll\",\"he's\",\"her\",\"here\",\"here's\",\"hers\",\"herself\",\"him\",\"himself\",\"his\",\"how\",\n",
    "                \"how's\",\"i\",\"i'd\",\"i'll\",\"i'm\",\"i've\",\"if\",\"in\",\"into\",\"is\",\"isn't\",\"it\",\"it's\",\n",
    "                \"its\",\"itself\",\"let's\",\"me\",\"more\",\"most\",\"mustn't\",\"my\",\"myself\",\"no\",\"nor\",\"not\",\n",
    "                \"of\",\"off\",\"on\",\"once\",\"only\",\"or\",\"other\",\"ought\",\"our\",\"ours\",\"ourselves\",\"out\",\n",
    "                \"over\",\"own\",\"same\",\"shan't\",\"she\",\"she'd\",\"she'll\",\"she's\",\"should\",\"shouldn't\",\"so\",\n",
    "                \"some\",\"such\",\"than\",\"that\",\"that's\",\"the\",\"their\",\"theirs\",\"them\",\"themselves\",\"then\",\n",
    "                \"there\",\"there's\",\"these\",\"they\",\"they'd\",\"they'll\",\"they're\",\"they've\",\"this\",\"those\",\n",
    "                \"through\",\"to\",\"too\",\"under\",\"until\",\"up\",\"very\",\"was\",\"wasn't\",\"we\",\"we'd\",\"we'll\",\n",
    "                \"we're\",\"we've\",\"were\",\"weren't\",\"what\",\"what's\",\"when\",\"when's\",\"where\",\"where's\",\n",
    "                \"which\",\"while\",\"who\",\"who's\",\"whom\",\"why\",\"why's\",\"with\",\"won't\",\"would\",\"wouldn't\",\n",
    "                \"you\",\"you'd\",\"you'll\",\"you're\",\"you've\",\"your\",'guys','just','day',\"yours\",\"yourself\",\n",
    "                \"yourselves\",\"will\",\"ana\",\"isa\",\"can\",\"hwa\",\"wala\",\"msh\",\"wla\",\"hya\",\"will\",'enta','7aga',\n",
    "                'mesh','dah','bas','elly','b2a','3ala','alf','enty','3al',]\n",
    "    space = [' ']\n",
    "    words = {}\n",
    "    \n",
    "    for m in df2['message']:\n",
    "        try:\n",
    "            seperated_words = m.split(' ')\n",
    "        except:\n",
    "            pass\n",
    "        for word in seperated_words:\n",
    "            word = word.strip()\n",
    "            word = word.lower()\n",
    "            #remove any punctuation\n",
    "            word = word.translate(mapping)\n",
    "            if word in stop_words:\n",
    "                continue\n",
    "            if word in space:\n",
    "                continue\n",
    "            if len(word)<3:\n",
    "                continue\n",
    "            if word in words:\n",
    "                words[word]+=1\n",
    "            else:\n",
    "                words[word]=1\n",
    "    print(\"done counting words\")\n",
    "    return words"
   ]
  },
  {
   "cell_type": "code",
   "execution_count": 38,
   "metadata": {},
   "outputs": [
    {
     "name": "stdout",
     "output_type": "stream",
     "text": [
      "done counting words\n"
     ]
    }
   ],
   "source": [
    "words = count_words(df2)\n",
    "# words"
   ]
  },
  {
   "cell_type": "code",
   "execution_count": 39,
   "metadata": {},
   "outputs": [
    {
     "data": {
      "text/html": [
       "<div>\n",
       "<style scoped>\n",
       "    .dataframe tbody tr th:only-of-type {\n",
       "        vertical-align: middle;\n",
       "    }\n",
       "\n",
       "    .dataframe tbody tr th {\n",
       "        vertical-align: top;\n",
       "    }\n",
       "\n",
       "    .dataframe thead th {\n",
       "        text-align: right;\n",
       "    }\n",
       "</style>\n",
       "<table border=\"1\" class=\"dataframe\">\n",
       "  <thead>\n",
       "    <tr style=\"text-align: right;\">\n",
       "      <th></th>\n",
       "      <th>word</th>\n",
       "      <th>count</th>\n",
       "    </tr>\n",
       "  </thead>\n",
       "  <tbody>\n",
       "    <tr>\n",
       "      <th>3</th>\n",
       "      <td>aliii</td>\n",
       "      <td>2</td>\n",
       "    </tr>\n",
       "    <tr>\n",
       "      <th>10</th>\n",
       "      <td>download</td>\n",
       "      <td>2</td>\n",
       "    </tr>\n",
       "    <tr>\n",
       "      <th>19</th>\n",
       "      <td>followers</td>\n",
       "      <td>2</td>\n",
       "    </tr>\n",
       "    <tr>\n",
       "      <th>40</th>\n",
       "      <td>plays</td>\n",
       "      <td>2</td>\n",
       "    </tr>\n",
       "    <tr>\n",
       "      <th>42</th>\n",
       "      <td>new</td>\n",
       "      <td>2</td>\n",
       "    </tr>\n",
       "    <tr>\n",
       "      <th>0</th>\n",
       "      <td>brooklyn</td>\n",
       "      <td>1</td>\n",
       "    </tr>\n",
       "    <tr>\n",
       "      <th>41</th>\n",
       "      <td>mmm\\nhttpssoundcloudcom3000bassaliiibadfreedow...</td>\n",
       "      <td>1</td>\n",
       "    </tr>\n",
       "    <tr>\n",
       "      <th>31</th>\n",
       "      <td>httpssoundcloudcomiamaliiiarfmwip</td>\n",
       "      <td>1</td>\n",
       "    </tr>\n",
       "    <tr>\n",
       "      <th>32</th>\n",
       "      <td>melodic</td>\n",
       "      <td>1</td>\n",
       "    </tr>\n",
       "    <tr>\n",
       "      <th>33</th>\n",
       "      <td>tunes</td>\n",
       "      <td>1</td>\n",
       "    </tr>\n",
       "    <tr>\n",
       "      <th>34</th>\n",
       "      <td>coming</td>\n",
       "      <td>1</td>\n",
       "    </tr>\n",
       "    <tr>\n",
       "      <th>35</th>\n",
       "      <td>soon</td>\n",
       "      <td>1</td>\n",
       "    </tr>\n",
       "    <tr>\n",
       "      <th>36</th>\n",
       "      <td>mmxvi</td>\n",
       "      <td>1</td>\n",
       "    </tr>\n",
       "    <tr>\n",
       "      <th>37</th>\n",
       "      <td>suppport</td>\n",
       "      <td>1</td>\n",
       "    </tr>\n",
       "    <tr>\n",
       "      <th>38</th>\n",
       "      <td>deepn2future\\ndownload\\nhttpssoundcloudcom3000...</td>\n",
       "      <td>1</td>\n",
       "    </tr>\n",
       "    <tr>\n",
       "      <th>39</th>\n",
       "      <td>httpssoundcloudcomiamaliiimask</td>\n",
       "      <td>1</td>\n",
       "    </tr>\n",
       "    <tr>\n",
       "      <th>43</th>\n",
       "      <td>wip\\nhttpssoundcloudcomiamaliiimodernmachine</td>\n",
       "      <td>1</td>\n",
       "    </tr>\n",
       "    <tr>\n",
       "      <th>29</th>\n",
       "      <td>\\nhttpswwwmixcloudcomfreepodcaststiestoclublif...</td>\n",
       "      <td>1</td>\n",
       "    </tr>\n",
       "    <tr>\n",
       "      <th>44</th>\n",
       "      <td>first</td>\n",
       "      <td>1</td>\n",
       "    </tr>\n",
       "    <tr>\n",
       "      <th>45</th>\n",
       "      <td>100</td>\n",
       "      <td>1</td>\n",
       "    </tr>\n",
       "  </tbody>\n",
       "</table>\n",
       "</div>"
      ],
      "text/plain": [
       "                                                 word  count\n",
       "3                                               aliii      2\n",
       "10                                           download      2\n",
       "19                                          followers      2\n",
       "40                                              plays      2\n",
       "42                                                new      2\n",
       "0                                            brooklyn      1\n",
       "41  mmm\\nhttpssoundcloudcom3000bassaliiibadfreedow...      1\n",
       "31                  httpssoundcloudcomiamaliiiarfmwip      1\n",
       "32                                            melodic      1\n",
       "33                                              tunes      1\n",
       "34                                             coming      1\n",
       "35                                               soon      1\n",
       "36                                              mmxvi      1\n",
       "37                                           suppport      1\n",
       "38  deepn2future\\ndownload\\nhttpssoundcloudcom3000...      1\n",
       "39                     httpssoundcloudcomiamaliiimask      1\n",
       "43       wip\\nhttpssoundcloudcomiamaliiimodernmachine      1\n",
       "29  \\nhttpswwwmixcloudcomfreepodcaststiestoclublif...      1\n",
       "44                                              first      1\n",
       "45                                                100      1"
      ]
     },
     "execution_count": 39,
     "metadata": {},
     "output_type": "execute_result"
    }
   ],
   "source": [
    "words_df = pd.DataFrame(list(words.items()), columns=['word','count'])\n",
    "words_df.sort_values('count', ascending=False, inplace=True)\n",
    "words_df.head(20)"
   ]
  },
  {
   "cell_type": "code",
   "execution_count": 47,
   "metadata": {},
   "outputs": [
    {
     "data": {
      "text/plain": [
       "<matplotlib.axes._subplots.AxesSubplot at 0x29460722e48>"
      ]
     },
     "execution_count": 47,
     "metadata": {},
     "output_type": "execute_result"
    },
    {
     "data": {
      "image/png": "[encoded data removed]",
      "text/plain": [
       "<Figure size 432x288 with 1 Axes>"
      ]
     },
     "metadata": {
      "needs_background": "light"
     },
     "output_type": "display_data"
    }
   ],
   "source": [
    "%matplotlib inline\n",
    "words_df[words_df['count']>1].plot(x = 'word', kind = \"bar\")"
   ]
  },
  {
   "cell_type": "code",
   "execution_count": null,
   "metadata": {
    "collapsed": true
   },
   "outputs": [],
   "source": []
  }
 ],
 "metadata": {
  "kernelspec": {
   "display_name": "Python 3",
   "language": "python",
   "name": "python3"
  },
  "language_info": {
   "codemirror_mode": {
    "name": "ipython",
    "version": 3
   },
   "file_extension": ".py",
   "mimetype": "text/x-python",
   "name": "python",
   "nbconvert_exporter": "python",
   "pygments_lexer": "ipython3",
   "version": "3.7.1"
  },
  "toc": {
   "nav_menu": {},
   "number_sections": true,
   "sideBar": true,
   "skip_h1_title": true,
   "title_cell": "Table of Contents",
   "title_sidebar": "Contents",
   "toc_cell": true,
   "toc_position": {},
   "toc_section_display": true,
   "toc_window_display": false
  }
 },
 "nbformat": 4,
 "nbformat_minor": 2
}
